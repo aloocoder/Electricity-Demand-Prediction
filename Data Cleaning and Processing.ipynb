{
 "cells": [
  {
   "cell_type": "markdown",
   "metadata": {},
   "source": [
    "# Data Cleaning and Processing"
   ]
  },
  {
   "cell_type": "code",
   "execution_count": 1,
   "metadata": {},
   "outputs": [
    {
     "name": "stderr",
     "output_type": "stream",
     "text": [
      "C:\\Users\\gandh\\Anaconda3\\lib\\site-packages\\h5py\\__init__.py:36: FutureWarning: Conversion of the second argument of issubdtype from `float` to `np.floating` is deprecated. In future, it will be treated as `np.float64 == np.dtype(float).type`.\n",
      "  from ._conv import register_converters as _register_converters\n"
     ]
    }
   ],
   "source": [
    "import pandas as pd\n",
    "import numpy as np\n",
    "import matplotlib.pyplot as plt\n",
    "%matplotlib inline\n",
    "from datetime import datetime, timedelta\n",
    "import tensorflow as tf\n",
    "from sklearn.model_selection import train_test_split"
   ]
  },
  {
   "cell_type": "markdown",
   "metadata": {},
   "source": [
    "## Reading in the load data file"
   ]
  },
  {
   "cell_type": "code",
   "execution_count": 2,
   "metadata": {},
   "outputs": [],
   "source": [
    "dmd_df = pd.read_csv(\"campusDemand.csv\", parse_dates=[\"Time\"])"
   ]
  },
  {
   "cell_type": "code",
   "execution_count": 3,
   "metadata": {},
   "outputs": [],
   "source": [
    "try:\n",
    "    dmd_df.drop([\"Rendered\", \"Annotation\"], inplace=True, axis=1)\n",
    "except:\n",
    "    pass\n",
    "dmd_df[\"Time\"] = pd.to_datetime(dmd_df[\"Time\"])"
   ]
  },
  {
   "cell_type": "markdown",
   "metadata": {},
   "source": [
    "## Rounding off to nearest hour"
   ]
  },
  {
   "cell_type": "code",
   "execution_count": 4,
   "metadata": {},
   "outputs": [
    {
     "name": "stderr",
     "output_type": "stream",
     "text": [
      "C:\\Users\\gandh\\Anaconda3\\lib\\site-packages\\ipykernel_launcher.py:14: SettingWithCopyWarning: \n",
      "A value is trying to be set on a copy of a slice from a DataFrame.\n",
      "Try using .loc[row_indexer,col_indexer] = value instead\n",
      "\n",
      "See the caveats in the documentation: http://pandas.pydata.org/pandas-docs/stable/indexing.html#indexing-view-versus-copy\n",
      "  \n"
     ]
    },
    {
     "data": {
      "text/html": [
       "<div>\n",
       "<style scoped>\n",
       "    .dataframe tbody tr th:only-of-type {\n",
       "        vertical-align: middle;\n",
       "    }\n",
       "\n",
       "    .dataframe tbody tr th {\n",
       "        vertical-align: top;\n",
       "    }\n",
       "\n",
       "    .dataframe thead th {\n",
       "        text-align: right;\n",
       "    }\n",
       "</style>\n",
       "<table border=\"1\" class=\"dataframe\">\n",
       "  <thead>\n",
       "    <tr style=\"text-align: right;\">\n",
       "      <th></th>\n",
       "      <th>Timex</th>\n",
       "      <th>Value</th>\n",
       "    </tr>\n",
       "  </thead>\n",
       "  <tbody>\n",
       "    <tr>\n",
       "      <th>0</th>\n",
       "      <td>2013-11-10 00:00:00</td>\n",
       "      <td>8261.731944</td>\n",
       "    </tr>\n",
       "    <tr>\n",
       "      <th>1</th>\n",
       "      <td>2013-11-10 01:00:00</td>\n",
       "      <td>8131.553229</td>\n",
       "    </tr>\n",
       "    <tr>\n",
       "      <th>2</th>\n",
       "      <td>2013-11-10 02:00:00</td>\n",
       "      <td>7985.570644</td>\n",
       "    </tr>\n",
       "    <tr>\n",
       "      <th>3</th>\n",
       "      <td>2013-11-10 03:00:00</td>\n",
       "      <td>7912.394148</td>\n",
       "    </tr>\n",
       "    <tr>\n",
       "      <th>4</th>\n",
       "      <td>2013-11-10 04:00:00</td>\n",
       "      <td>7857.923992</td>\n",
       "    </tr>\n",
       "  </tbody>\n",
       "</table>\n",
       "</div>"
      ],
      "text/plain": [
       "                Timex        Value\n",
       "0 2013-11-10 00:00:00  8261.731944\n",
       "1 2013-11-10 01:00:00  8131.553229\n",
       "2 2013-11-10 02:00:00  7985.570644\n",
       "3 2013-11-10 03:00:00  7912.394148\n",
       "4 2013-11-10 04:00:00  7857.923992"
      ]
     },
     "execution_count": 4,
     "metadata": {},
     "output_type": "execute_result"
    },
    {
     "data": {
      "image/png": "[encoded data removed]",
      "text/plain": [
       "<Figure size 432x288 with 1 Axes>"
      ]
     },
     "metadata": {},
     "output_type": "display_data"
    }
   ],
   "source": [
    "def roundhr(dt_time):\n",
    "    dt_time = dt_time.replace(microsecond=0, second=0, minute=0)\n",
    "    return dt_time\n",
    "\n",
    "try:\n",
    "    dmd_df.drop([\"Rendered\", \"Annotation\"], inplace=True, axis=1)\n",
    "except:\n",
    "    pass\n",
    "dmd_df[\"Time\"] = pd.to_datetime(dmd_df[\"Time\"])\n",
    "dmd_df.head(), dmd_df.dtypes\n",
    "\n",
    "dmd_main = dmd_df[dmd_df[\"Point name\"] == dmd_df[\"Point name\"].unique()[5]]\n",
    "\n",
    "dmd_main[\"Timex\"] = dmd_main[\"Time\"].apply(lambda x: roundhr(x))\n",
    "dmd_main.head()\n",
    "dmd_mainx = dmd_main.set_index([\"Timex\"])\n",
    "dmd_mainx = dmd_mainx.resample(\"1H\").mean()\n",
    "dmd_mainx.reset_index(inplace=True)\n",
    "plt.plot(dmd_mainx[\"Timex\"], dmd_mainx[\"Value\"])\n",
    "\n",
    "dmd_mainx.head()"
   ]
  },
  {
   "cell_type": "markdown",
   "metadata": {},
   "source": [
    "## Reading the  Weather data file"
   ]
  },
  {
   "cell_type": "code",
   "execution_count": 6,
   "metadata": {},
   "outputs": [
    {
     "data": {
      "text/html": [
       "<div>\n",
       "<style scoped>\n",
       "    .dataframe tbody tr th:only-of-type {\n",
       "        vertical-align: middle;\n",
       "    }\n",
       "\n",
       "    .dataframe tbody tr th {\n",
       "        vertical-align: top;\n",
       "    }\n",
       "\n",
       "    .dataframe thead th {\n",
       "        text-align: right;\n",
       "    }\n",
       "</style>\n",
       "<table border=\"1\" class=\"dataframe\">\n",
       "  <thead>\n",
       "    <tr style=\"text-align: right;\">\n",
       "      <th></th>\n",
       "      <th>Time</th>\n",
       "      <th>Temp (F)</th>\n",
       "      <th>Humidity</th>\n",
       "      <th>Wind Speed</th>\n",
       "      <th>Condition</th>\n",
       "    </tr>\n",
       "  </thead>\n",
       "  <tbody>\n",
       "    <tr>\n",
       "      <th>0</th>\n",
       "      <td>2012-01-01 00:00:00</td>\n",
       "      <td>39.2</td>\n",
       "      <td>0.87</td>\n",
       "      <td>6.9</td>\n",
       "      <td>13.0</td>\n",
       "    </tr>\n",
       "    <tr>\n",
       "      <th>1</th>\n",
       "      <td>2012-01-01 01:00:00</td>\n",
       "      <td>39.2</td>\n",
       "      <td>0.87</td>\n",
       "      <td>3.5</td>\n",
       "      <td>13.0</td>\n",
       "    </tr>\n",
       "    <tr>\n",
       "      <th>2</th>\n",
       "      <td>2012-01-01 02:00:00</td>\n",
       "      <td>37.9</td>\n",
       "      <td>0.86</td>\n",
       "      <td>4.6</td>\n",
       "      <td>16.0</td>\n",
       "    </tr>\n",
       "    <tr>\n",
       "      <th>3</th>\n",
       "      <td>2012-01-01 03:00:00</td>\n",
       "      <td>37.0</td>\n",
       "      <td>0.89</td>\n",
       "      <td>3.5</td>\n",
       "      <td>0.0</td>\n",
       "    </tr>\n",
       "    <tr>\n",
       "      <th>4</th>\n",
       "      <td>2012-01-01 04:00:00</td>\n",
       "      <td>36.0</td>\n",
       "      <td>0.89</td>\n",
       "      <td>5.8</td>\n",
       "      <td>0.0</td>\n",
       "    </tr>\n",
       "  </tbody>\n",
       "</table>\n",
       "</div>"
      ],
      "text/plain": [
       "                 Time  Temp (F)  Humidity  Wind Speed  Condition\n",
       "0 2012-01-01 00:00:00      39.2      0.87         6.9       13.0\n",
       "1 2012-01-01 01:00:00      39.2      0.87         3.5       13.0\n",
       "2 2012-01-01 02:00:00      37.9      0.86         4.6       16.0\n",
       "3 2012-01-01 03:00:00      37.0      0.89         3.5        0.0\n",
       "4 2012-01-01 04:00:00      36.0      0.89         5.8        0.0"
      ]
     },
     "execution_count": 6,
     "metadata": {},
     "output_type": "execute_result"
    }
   ],
   "source": [
    "weatherdf = pd.read_csv(\"Weather_data_all.csv\")\n",
    "weatherdf = weatherdf.drop(\"Unnamed: 0\", axis = 1)\n",
    "weatherdf[\"Time\"] = pd.to_datetime(weatherdf[\"Time\"])\n",
    "weatherdf.head()"
   ]
  },
  {
   "cell_type": "markdown",
   "metadata": {},
   "source": [
    "## Merging the weather and load data"
   ]
  },
  {
   "cell_type": "code",
   "execution_count": 7,
   "metadata": {},
   "outputs": [
    {
     "data": {
      "text/html": [
       "<div>\n",
       "<style scoped>\n",
       "    .dataframe tbody tr th:only-of-type {\n",
       "        vertical-align: middle;\n",
       "    }\n",
       "\n",
       "    .dataframe tbody tr th {\n",
       "        vertical-align: top;\n",
       "    }\n",
       "\n",
       "    .dataframe thead th {\n",
       "        text-align: right;\n",
       "    }\n",
       "</style>\n",
       "<table border=\"1\" class=\"dataframe\">\n",
       "  <thead>\n",
       "    <tr style=\"text-align: right;\">\n",
       "      <th></th>\n",
       "      <th>Time</th>\n",
       "      <th>Temp (F)</th>\n",
       "      <th>Humidity</th>\n",
       "      <th>Wind Speed</th>\n",
       "      <th>Condition</th>\n",
       "      <th>Value</th>\n",
       "    </tr>\n",
       "  </thead>\n",
       "  <tbody>\n",
       "    <tr>\n",
       "      <th>0</th>\n",
       "      <td>2013-11-10 00:00:00</td>\n",
       "      <td>54.0</td>\n",
       "      <td>0.35</td>\n",
       "      <td>17.3</td>\n",
       "      <td>13.0</td>\n",
       "      <td>8261.731944</td>\n",
       "    </tr>\n",
       "    <tr>\n",
       "      <th>1</th>\n",
       "      <td>2013-11-10 01:00:00</td>\n",
       "      <td>53.1</td>\n",
       "      <td>0.41</td>\n",
       "      <td>20.7</td>\n",
       "      <td>12.0</td>\n",
       "      <td>8131.553229</td>\n",
       "    </tr>\n",
       "    <tr>\n",
       "      <th>2</th>\n",
       "      <td>2013-11-10 02:00:00</td>\n",
       "      <td>53.1</td>\n",
       "      <td>0.45</td>\n",
       "      <td>17.3</td>\n",
       "      <td>12.0</td>\n",
       "      <td>7985.570644</td>\n",
       "    </tr>\n",
       "    <tr>\n",
       "      <th>3</th>\n",
       "      <td>2013-11-10 03:00:00</td>\n",
       "      <td>51.1</td>\n",
       "      <td>0.48</td>\n",
       "      <td>12.7</td>\n",
       "      <td>14.0</td>\n",
       "      <td>7912.394148</td>\n",
       "    </tr>\n",
       "    <tr>\n",
       "      <th>4</th>\n",
       "      <td>2013-11-10 04:00:00</td>\n",
       "      <td>50.0</td>\n",
       "      <td>0.52</td>\n",
       "      <td>15.0</td>\n",
       "      <td>14.0</td>\n",
       "      <td>7857.923992</td>\n",
       "    </tr>\n",
       "  </tbody>\n",
       "</table>\n",
       "</div>"
      ],
      "text/plain": [
       "                 Time  Temp (F)  Humidity  Wind Speed  Condition        Value\n",
       "0 2013-11-10 00:00:00      54.0      0.35        17.3       13.0  8261.731944\n",
       "1 2013-11-10 01:00:00      53.1      0.41        20.7       12.0  8131.553229\n",
       "2 2013-11-10 02:00:00      53.1      0.45        17.3       12.0  7985.570644\n",
       "3 2013-11-10 03:00:00      51.1      0.48        12.7       14.0  7912.394148\n",
       "4 2013-11-10 04:00:00      50.0      0.52        15.0       14.0  7857.923992"
      ]
     },
     "execution_count": 7,
     "metadata": {},
     "output_type": "execute_result"
    }
   ],
   "source": [
    "dmd_mainx[\"Time\"] = dmd_mainx[\"Timex\"]\n",
    "df = weatherdf.merge(dmd_mainx)\n",
    "df.drop([\"Timex\"], axis=1, inplace=True)\n",
    "df.head()"
   ]
  },
  {
   "cell_type": "markdown",
   "metadata": {},
   "source": [
    "## Creating one hot vectors for weekdays and hour"
   ]
  },
  {
   "cell_type": "code",
   "execution_count": 8,
   "metadata": {},
   "outputs": [],
   "source": [
    "df[\"Weekday\"] = df[\"Time\"].apply(lambda x: datetime.weekday(x))\n",
    "new = np.asarray(df[\"Weekday\"])\n",
    "check = pd.get_dummies(new)\n",
    "check.head()\n",
    "df = df.join(check)\n",
    "k = list(range(7))\n",
    "v = list(map(str, k))\n",
    "v = [\"Weekday \"+ a for a in v]\n",
    "dic = zip(k, v)\n",
    "dic = dict(dic)\n",
    "dic\n",
    "df.reset_index(inplace=True)\n",
    "df = df.rename(dic, axis=1)"
   ]
  },
  {
   "cell_type": "code",
   "execution_count": 9,
   "metadata": {},
   "outputs": [
    {
     "data": {
      "text/html": [
       "<div>\n",
       "<style scoped>\n",
       "    .dataframe tbody tr th:only-of-type {\n",
       "        vertical-align: middle;\n",
       "    }\n",
       "\n",
       "    .dataframe tbody tr th {\n",
       "        vertical-align: top;\n",
       "    }\n",
       "\n",
       "    .dataframe thead th {\n",
       "        text-align: right;\n",
       "    }\n",
       "</style>\n",
       "<table border=\"1\" class=\"dataframe\">\n",
       "  <thead>\n",
       "    <tr style=\"text-align: right;\">\n",
       "      <th></th>\n",
       "      <th>index</th>\n",
       "      <th>Time</th>\n",
       "      <th>Temp (F)</th>\n",
       "      <th>Humidity</th>\n",
       "      <th>Wind Speed</th>\n",
       "      <th>Condition</th>\n",
       "      <th>Value</th>\n",
       "      <th>Weekday</th>\n",
       "      <th>Weekday 0</th>\n",
       "      <th>Weekday 1</th>\n",
       "      <th>...</th>\n",
       "      <th>Hour 14</th>\n",
       "      <th>Hour 15</th>\n",
       "      <th>Hour 16</th>\n",
       "      <th>Hour 17</th>\n",
       "      <th>Hour 18</th>\n",
       "      <th>Hour 19</th>\n",
       "      <th>Hour 20</th>\n",
       "      <th>Hour 21</th>\n",
       "      <th>Hour 22</th>\n",
       "      <th>Hour 23</th>\n",
       "    </tr>\n",
       "  </thead>\n",
       "  <tbody>\n",
       "    <tr>\n",
       "      <th>0</th>\n",
       "      <td>0</td>\n",
       "      <td>2013-11-10 00:00:00</td>\n",
       "      <td>54.0</td>\n",
       "      <td>0.35</td>\n",
       "      <td>17.3</td>\n",
       "      <td>13.0</td>\n",
       "      <td>8261.731944</td>\n",
       "      <td>6</td>\n",
       "      <td>0</td>\n",
       "      <td>0</td>\n",
       "      <td>...</td>\n",
       "      <td>0</td>\n",
       "      <td>0</td>\n",
       "      <td>0</td>\n",
       "      <td>0</td>\n",
       "      <td>0</td>\n",
       "      <td>0</td>\n",
       "      <td>0</td>\n",
       "      <td>0</td>\n",
       "      <td>0</td>\n",
       "      <td>0</td>\n",
       "    </tr>\n",
       "    <tr>\n",
       "      <th>1</th>\n",
       "      <td>1</td>\n",
       "      <td>2013-11-10 01:00:00</td>\n",
       "      <td>53.1</td>\n",
       "      <td>0.41</td>\n",
       "      <td>20.7</td>\n",
       "      <td>12.0</td>\n",
       "      <td>8131.553229</td>\n",
       "      <td>6</td>\n",
       "      <td>0</td>\n",
       "      <td>0</td>\n",
       "      <td>...</td>\n",
       "      <td>0</td>\n",
       "      <td>0</td>\n",
       "      <td>0</td>\n",
       "      <td>0</td>\n",
       "      <td>0</td>\n",
       "      <td>0</td>\n",
       "      <td>0</td>\n",
       "      <td>0</td>\n",
       "      <td>0</td>\n",
       "      <td>0</td>\n",
       "    </tr>\n",
       "    <tr>\n",
       "      <th>2</th>\n",
       "      <td>2</td>\n",
       "      <td>2013-11-10 02:00:00</td>\n",
       "      <td>53.1</td>\n",
       "      <td>0.45</td>\n",
       "      <td>17.3</td>\n",
       "      <td>12.0</td>\n",
       "      <td>7985.570644</td>\n",
       "      <td>6</td>\n",
       "      <td>0</td>\n",
       "      <td>0</td>\n",
       "      <td>...</td>\n",
       "      <td>0</td>\n",
       "      <td>0</td>\n",
       "      <td>0</td>\n",
       "      <td>0</td>\n",
       "      <td>0</td>\n",
       "      <td>0</td>\n",
       "      <td>0</td>\n",
       "      <td>0</td>\n",
       "      <td>0</td>\n",
       "      <td>0</td>\n",
       "    </tr>\n",
       "    <tr>\n",
       "      <th>3</th>\n",
       "      <td>3</td>\n",
       "      <td>2013-11-10 03:00:00</td>\n",
       "      <td>51.1</td>\n",
       "      <td>0.48</td>\n",
       "      <td>12.7</td>\n",
       "      <td>14.0</td>\n",
       "      <td>7912.394148</td>\n",
       "      <td>6</td>\n",
       "      <td>0</td>\n",
       "      <td>0</td>\n",
       "      <td>...</td>\n",
       "      <td>0</td>\n",
       "      <td>0</td>\n",
       "      <td>0</td>\n",
       "      <td>0</td>\n",
       "      <td>0</td>\n",
       "      <td>0</td>\n",
       "      <td>0</td>\n",
       "      <td>0</td>\n",
       "      <td>0</td>\n",
       "      <td>0</td>\n",
       "    </tr>\n",
       "    <tr>\n",
       "      <th>4</th>\n",
       "      <td>4</td>\n",
       "      <td>2013-11-10 04:00:00</td>\n",
       "      <td>50.0</td>\n",
       "      <td>0.52</td>\n",
       "      <td>15.0</td>\n",
       "      <td>14.0</td>\n",
       "      <td>7857.923992</td>\n",
       "      <td>6</td>\n",
       "      <td>0</td>\n",
       "      <td>0</td>\n",
       "      <td>...</td>\n",
       "      <td>0</td>\n",
       "      <td>0</td>\n",
       "      <td>0</td>\n",
       "      <td>0</td>\n",
       "      <td>0</td>\n",
       "      <td>0</td>\n",
       "      <td>0</td>\n",
       "      <td>0</td>\n",
       "      <td>0</td>\n",
       "      <td>0</td>\n",
       "    </tr>\n",
       "  </tbody>\n",
       "</table>\n",
       "<p>5 rows × 40 columns</p>\n",
       "</div>"
      ],
      "text/plain": [
       "   index                Time  Temp (F)  Humidity  Wind Speed  Condition  \\\n",
       "0      0 2013-11-10 00:00:00      54.0      0.35        17.3       13.0   \n",
       "1      1 2013-11-10 01:00:00      53.1      0.41        20.7       12.0   \n",
       "2      2 2013-11-10 02:00:00      53.1      0.45        17.3       12.0   \n",
       "3      3 2013-11-10 03:00:00      51.1      0.48        12.7       14.0   \n",
       "4      4 2013-11-10 04:00:00      50.0      0.52        15.0       14.0   \n",
       "\n",
       "         Value  Weekday  Weekday 0  Weekday 1   ...     Hour 14  Hour 15  \\\n",
       "0  8261.731944        6          0          0   ...           0        0   \n",
       "1  8131.553229        6          0          0   ...           0        0   \n",
       "2  7985.570644        6          0          0   ...           0        0   \n",
       "3  7912.394148        6          0          0   ...           0        0   \n",
       "4  7857.923992        6          0          0   ...           0        0   \n",
       "\n",
       "   Hour 16  Hour 17  Hour 18  Hour 19  Hour 20  Hour 21  Hour 22  Hour 23  \n",
       "0        0        0        0        0        0        0        0        0  \n",
       "1        0        0        0        0        0        0        0        0  \n",
       "2        0        0        0        0        0        0        0        0  \n",
       "3        0        0        0        0        0        0        0        0  \n",
       "4        0        0        0        0        0        0        0        0  \n",
       "\n",
       "[5 rows x 40 columns]"
      ]
     },
     "execution_count": 9,
     "metadata": {},
     "output_type": "execute_result"
    }
   ],
   "source": [
    "df['hours'] = df.Time.dt.hour\n",
    "new = np.asarray(df[\"hours\"])\n",
    "check = pd.get_dummies(new)\n",
    "check.head()\n",
    "df = df.join(check)\n",
    "k = list(range(24))\n",
    "v = list(map(str, k))\n",
    "v = [\"Hour \"+ a for a in v]\n",
    "dic = zip(k, v)\n",
    "dic = dict(dic)\n",
    "df = df.rename(dic, axis='columns')\n",
    "df.head()"
   ]
  },
  {
   "cell_type": "markdown",
   "metadata": {},
   "source": [
    "## Creating Columns for past consumption data"
   ]
  },
  {
   "cell_type": "code",
   "execution_count": 10,
   "metadata": {},
   "outputs": [],
   "source": [
    "for i in range(1, 169):\n",
    "    new = [None]*i\n",
    "    new = new + list(df[\"Value\"])\n",
    "    a = pd.Series(new.copy()[:len(df)])\n",
    "    df[\"T\"+str(-i)] = a\n",
    "   \n",
    "for i in range(1, 169):\n",
    "    new = [None]*24\n",
    "    new = new + list(df[\"T\"+str(-i)])\n",
    "    a = pd.Series(new.copy()[:len(df)])\n",
    "    df[\"T\"+str(-i)] = a"
   ]
  },
  {
   "cell_type": "markdown",
   "metadata": {},
   "source": [
    "## Dropping Null Rows"
   ]
  },
  {
   "cell_type": "code",
   "execution_count": 11,
   "metadata": {},
   "outputs": [],
   "source": [
    "df1 = df.dropna()"
   ]
  },
  {
   "cell_type": "markdown",
   "metadata": {},
   "source": [
    "## Rearranging the dataset"
   ]
  },
  {
   "cell_type": "code",
   "execution_count": 12,
   "metadata": {},
   "outputs": [
    {
     "data": {
      "text/html": [
       "<div>\n",
       "<style scoped>\n",
       "    .dataframe tbody tr th:only-of-type {\n",
       "        vertical-align: middle;\n",
       "    }\n",
       "\n",
       "    .dataframe tbody tr th {\n",
       "        vertical-align: top;\n",
       "    }\n",
       "\n",
       "    .dataframe thead th {\n",
       "        text-align: right;\n",
       "    }\n",
       "</style>\n",
       "<table border=\"1\" class=\"dataframe\">\n",
       "  <thead>\n",
       "    <tr style=\"text-align: right;\">\n",
       "      <th></th>\n",
       "      <th>T-1</th>\n",
       "      <th>T-2</th>\n",
       "      <th>T-3</th>\n",
       "      <th>T-4</th>\n",
       "      <th>T-5</th>\n",
       "      <th>T-6</th>\n",
       "      <th>T-7</th>\n",
       "      <th>T-8</th>\n",
       "      <th>T-9</th>\n",
       "      <th>T-10</th>\n",
       "      <th>...</th>\n",
       "      <th>Hour 22</th>\n",
       "      <th>Hour 23</th>\n",
       "      <th>Weekday 0</th>\n",
       "      <th>Weekday 1</th>\n",
       "      <th>Weekday 2</th>\n",
       "      <th>Weekday 3</th>\n",
       "      <th>Weekday 4</th>\n",
       "      <th>Weekday 5</th>\n",
       "      <th>Weekday 6</th>\n",
       "      <th>Temp (F)</th>\n",
       "    </tr>\n",
       "  </thead>\n",
       "  <tbody>\n",
       "    <tr>\n",
       "      <th>192</th>\n",
       "      <td>8672.508489</td>\n",
       "      <td>8848.965995</td>\n",
       "      <td>8971.941948</td>\n",
       "      <td>9185.956123</td>\n",
       "      <td>9250.951042</td>\n",
       "      <td>9362.168974</td>\n",
       "      <td>9426.543421</td>\n",
       "      <td>9367.917952</td>\n",
       "      <td>9243.272519</td>\n",
       "      <td>9199.059827</td>\n",
       "      <td>...</td>\n",
       "      <td>0</td>\n",
       "      <td>0</td>\n",
       "      <td>1</td>\n",
       "      <td>0</td>\n",
       "      <td>0</td>\n",
       "      <td>0</td>\n",
       "      <td>0</td>\n",
       "      <td>0</td>\n",
       "      <td>0</td>\n",
       "      <td>60.1</td>\n",
       "    </tr>\n",
       "    <tr>\n",
       "      <th>193</th>\n",
       "      <td>8486.431955</td>\n",
       "      <td>8672.508489</td>\n",
       "      <td>8848.965995</td>\n",
       "      <td>8971.941948</td>\n",
       "      <td>9185.956123</td>\n",
       "      <td>9250.951042</td>\n",
       "      <td>9362.168974</td>\n",
       "      <td>9426.543421</td>\n",
       "      <td>9367.917952</td>\n",
       "      <td>9243.272519</td>\n",
       "      <td>...</td>\n",
       "      <td>0</td>\n",
       "      <td>0</td>\n",
       "      <td>1</td>\n",
       "      <td>0</td>\n",
       "      <td>0</td>\n",
       "      <td>0</td>\n",
       "      <td>0</td>\n",
       "      <td>0</td>\n",
       "      <td>0</td>\n",
       "      <td>57.9</td>\n",
       "    </tr>\n",
       "    <tr>\n",
       "      <th>194</th>\n",
       "      <td>8345.440925</td>\n",
       "      <td>8486.431955</td>\n",
       "      <td>8672.508489</td>\n",
       "      <td>8848.965995</td>\n",
       "      <td>8971.941948</td>\n",
       "      <td>9185.956123</td>\n",
       "      <td>9250.951042</td>\n",
       "      <td>9362.168974</td>\n",
       "      <td>9426.543421</td>\n",
       "      <td>9367.917952</td>\n",
       "      <td>...</td>\n",
       "      <td>0</td>\n",
       "      <td>0</td>\n",
       "      <td>1</td>\n",
       "      <td>0</td>\n",
       "      <td>0</td>\n",
       "      <td>0</td>\n",
       "      <td>0</td>\n",
       "      <td>0</td>\n",
       "      <td>0</td>\n",
       "      <td>55.0</td>\n",
       "    </tr>\n",
       "    <tr>\n",
       "      <th>195</th>\n",
       "      <td>8208.969043</td>\n",
       "      <td>8345.440925</td>\n",
       "      <td>8486.431955</td>\n",
       "      <td>8672.508489</td>\n",
       "      <td>8848.965995</td>\n",
       "      <td>8971.941948</td>\n",
       "      <td>9185.956123</td>\n",
       "      <td>9250.951042</td>\n",
       "      <td>9362.168974</td>\n",
       "      <td>9426.543421</td>\n",
       "      <td>...</td>\n",
       "      <td>0</td>\n",
       "      <td>0</td>\n",
       "      <td>1</td>\n",
       "      <td>0</td>\n",
       "      <td>0</td>\n",
       "      <td>0</td>\n",
       "      <td>0</td>\n",
       "      <td>0</td>\n",
       "      <td>0</td>\n",
       "      <td>52.0</td>\n",
       "    </tr>\n",
       "    <tr>\n",
       "      <th>196</th>\n",
       "      <td>8120.245189</td>\n",
       "      <td>8208.969043</td>\n",
       "      <td>8345.440925</td>\n",
       "      <td>8486.431955</td>\n",
       "      <td>8672.508489</td>\n",
       "      <td>8848.965995</td>\n",
       "      <td>8971.941948</td>\n",
       "      <td>9185.956123</td>\n",
       "      <td>9250.951042</td>\n",
       "      <td>9362.168974</td>\n",
       "      <td>...</td>\n",
       "      <td>0</td>\n",
       "      <td>0</td>\n",
       "      <td>1</td>\n",
       "      <td>0</td>\n",
       "      <td>0</td>\n",
       "      <td>0</td>\n",
       "      <td>0</td>\n",
       "      <td>0</td>\n",
       "      <td>0</td>\n",
       "      <td>51.1</td>\n",
       "    </tr>\n",
       "  </tbody>\n",
       "</table>\n",
       "<p>5 rows × 200 columns</p>\n",
       "</div>"
      ],
      "text/plain": [
       "             T-1          T-2          T-3          T-4          T-5  \\\n",
       "192  8672.508489  8848.965995  8971.941948  9185.956123  9250.951042   \n",
       "193  8486.431955  8672.508489  8848.965995  8971.941948  9185.956123   \n",
       "194  8345.440925  8486.431955  8672.508489  8848.965995  8971.941948   \n",
       "195  8208.969043  8345.440925  8486.431955  8672.508489  8848.965995   \n",
       "196  8120.245189  8208.969043  8345.440925  8486.431955  8672.508489   \n",
       "\n",
       "             T-6          T-7          T-8          T-9         T-10  \\\n",
       "192  9362.168974  9426.543421  9367.917952  9243.272519  9199.059827   \n",
       "193  9250.951042  9362.168974  9426.543421  9367.917952  9243.272519   \n",
       "194  9185.956123  9250.951042  9362.168974  9426.543421  9367.917952   \n",
       "195  8971.941948  9185.956123  9250.951042  9362.168974  9426.543421   \n",
       "196  8848.965995  8971.941948  9185.956123  9250.951042  9362.168974   \n",
       "\n",
       "       ...     Hour 22  Hour 23  Weekday 0  Weekday 1  Weekday 2  Weekday 3  \\\n",
       "192    ...           0        0          1          0          0          0   \n",
       "193    ...           0        0          1          0          0          0   \n",
       "194    ...           0        0          1          0          0          0   \n",
       "195    ...           0        0          1          0          0          0   \n",
       "196    ...           0        0          1          0          0          0   \n",
       "\n",
       "     Weekday 4  Weekday 5  Weekday 6  Temp (F)  \n",
       "192          0          0          0      60.1  \n",
       "193          0          0          0      57.9  \n",
       "194          0          0          0      55.0  \n",
       "195          0          0          0      52.0  \n",
       "196          0          0          0      51.1  \n",
       "\n",
       "[5 rows x 200 columns]"
      ]
     },
     "execution_count": 12,
     "metadata": {},
     "output_type": "execute_result"
    }
   ],
   "source": [
    "nn1_l1 = []\n",
    "for i in range(1, 169):\n",
    "    tmp = [\"T\"+str(-i)]\n",
    "    nn1_l1 = nn1_l1 + tmp.copy()\n",
    "\n",
    "for i in range(24):\n",
    "    tmp = [\"Hour \"+str(i)]\n",
    "    nn1_l1 = nn1_l1 + tmp.copy()\n",
    "\n",
    "for i in range(7):\n",
    "    tmp = [\"Weekday \"+str(i)]\n",
    "    nn1_l1 = nn1_l1 + tmp.copy()\n",
    "\n",
    "nn1_l1 = nn1_l1 + [\"Temp (F)\"]\n",
    "\n",
    "nn1_l1 = df1[nn1_l1]\n",
    "\n",
    "out = df1[[\"Value\"]]\n",
    "\n",
    "nn1_l1.head()"
   ]
  },
  {
   "cell_type": "markdown",
   "metadata": {},
   "source": [
    "## Splitting the dataset into train, test anf validation sets "
   ]
  },
  {
   "cell_type": "code",
   "execution_count": 13,
   "metadata": {},
   "outputs": [],
   "source": [
    "X_train, X_test, y_train, y_test = train_test_split(nn1_l1, out, test_size=0.1, random_state=1)\n",
    "X_train, X_val, y_train, y_val = train_test_split(X_train, y_train, test_size=2/9, random_state=1)"
   ]
  },
  {
   "cell_type": "code",
   "execution_count": 14,
   "metadata": {},
   "outputs": [
    {
     "data": {
      "text/plain": [
       "((5103, 200), (5103, 1), (1458, 200), (1458, 1), (730, 200), (730, 1))"
      ]
     },
     "execution_count": 14,
     "metadata": {},
     "output_type": "execute_result"
    }
   ],
   "source": [
    "X_train.shape, y_train.shape, X_val.shape, y_val.shape, X_test.shape, y_test.shape"
   ]
  },
  {
   "cell_type": "code",
   "execution_count": 15,
   "metadata": {},
   "outputs": [
    {
     "data": {
      "text/html": [
       "<div>\n",
       "<style scoped>\n",
       "    .dataframe tbody tr th:only-of-type {\n",
       "        vertical-align: middle;\n",
       "    }\n",
       "\n",
       "    .dataframe tbody tr th {\n",
       "        vertical-align: top;\n",
       "    }\n",
       "\n",
       "    .dataframe thead th {\n",
       "        text-align: right;\n",
       "    }\n",
       "</style>\n",
       "<table border=\"1\" class=\"dataframe\">\n",
       "  <thead>\n",
       "    <tr style=\"text-align: right;\">\n",
       "      <th></th>\n",
       "      <th>T-1</th>\n",
       "      <th>T-2</th>\n",
       "      <th>T-3</th>\n",
       "      <th>T-4</th>\n",
       "      <th>T-5</th>\n",
       "      <th>T-6</th>\n",
       "      <th>T-7</th>\n",
       "      <th>T-8</th>\n",
       "      <th>T-9</th>\n",
       "      <th>T-10</th>\n",
       "      <th>...</th>\n",
       "      <th>Hour 22</th>\n",
       "      <th>Hour 23</th>\n",
       "      <th>Weekday 0</th>\n",
       "      <th>Weekday 1</th>\n",
       "      <th>Weekday 2</th>\n",
       "      <th>Weekday 3</th>\n",
       "      <th>Weekday 4</th>\n",
       "      <th>Weekday 5</th>\n",
       "      <th>Weekday 6</th>\n",
       "      <th>Temp (F)</th>\n",
       "    </tr>\n",
       "  </thead>\n",
       "  <tbody>\n",
       "    <tr>\n",
       "      <th>2581</th>\n",
       "      <td>9995.961852</td>\n",
       "      <td>9870.024985</td>\n",
       "      <td>9677.370785</td>\n",
       "      <td>9392.847138</td>\n",
       "      <td>8836.845375</td>\n",
       "      <td>8355.431338</td>\n",
       "      <td>8172.150171</td>\n",
       "      <td>8021.895442</td>\n",
       "      <td>8030.463140</td>\n",
       "      <td>8038.729246</td>\n",
       "      <td>...</td>\n",
       "      <td>0</td>\n",
       "      <td>0</td>\n",
       "      <td>0</td>\n",
       "      <td>1</td>\n",
       "      <td>0</td>\n",
       "      <td>0</td>\n",
       "      <td>0</td>\n",
       "      <td>0</td>\n",
       "      <td>0</td>\n",
       "      <td>25.0</td>\n",
       "    </tr>\n",
       "    <tr>\n",
       "      <th>7674</th>\n",
       "      <td>10734.847479</td>\n",
       "      <td>11108.219067</td>\n",
       "      <td>11260.804071</td>\n",
       "      <td>11230.603863</td>\n",
       "      <td>11117.825350</td>\n",
       "      <td>10974.387629</td>\n",
       "      <td>10878.715004</td>\n",
       "      <td>10210.686738</td>\n",
       "      <td>9669.849888</td>\n",
       "      <td>8994.760527</td>\n",
       "      <td>...</td>\n",
       "      <td>0</td>\n",
       "      <td>0</td>\n",
       "      <td>0</td>\n",
       "      <td>0</td>\n",
       "      <td>0</td>\n",
       "      <td>1</td>\n",
       "      <td>0</td>\n",
       "      <td>0</td>\n",
       "      <td>0</td>\n",
       "      <td>72.0</td>\n",
       "    </tr>\n",
       "    <tr>\n",
       "      <th>477</th>\n",
       "      <td>7823.656204</td>\n",
       "      <td>7823.364003</td>\n",
       "      <td>7868.414285</td>\n",
       "      <td>7883.308724</td>\n",
       "      <td>7747.102878</td>\n",
       "      <td>7640.463876</td>\n",
       "      <td>7607.537034</td>\n",
       "      <td>7622.953513</td>\n",
       "      <td>7587.855651</td>\n",
       "      <td>7534.597433</td>\n",
       "      <td>...</td>\n",
       "      <td>0</td>\n",
       "      <td>0</td>\n",
       "      <td>0</td>\n",
       "      <td>0</td>\n",
       "      <td>0</td>\n",
       "      <td>0</td>\n",
       "      <td>1</td>\n",
       "      <td>0</td>\n",
       "      <td>0</td>\n",
       "      <td>28.0</td>\n",
       "    </tr>\n",
       "    <tr>\n",
       "      <th>5220</th>\n",
       "      <td>8463.546600</td>\n",
       "      <td>8325.847346</td>\n",
       "      <td>8155.010012</td>\n",
       "      <td>8162.239642</td>\n",
       "      <td>8099.253806</td>\n",
       "      <td>8136.630915</td>\n",
       "      <td>8131.579498</td>\n",
       "      <td>8154.591408</td>\n",
       "      <td>8216.339717</td>\n",
       "      <td>8358.519904</td>\n",
       "      <td>...</td>\n",
       "      <td>0</td>\n",
       "      <td>0</td>\n",
       "      <td>0</td>\n",
       "      <td>0</td>\n",
       "      <td>0</td>\n",
       "      <td>0</td>\n",
       "      <td>0</td>\n",
       "      <td>0</td>\n",
       "      <td>1</td>\n",
       "      <td>73.9</td>\n",
       "    </tr>\n",
       "    <tr>\n",
       "      <th>1210</th>\n",
       "      <td>7330.407694</td>\n",
       "      <td>7340.382230</td>\n",
       "      <td>7387.772284</td>\n",
       "      <td>7429.839897</td>\n",
       "      <td>7419.429330</td>\n",
       "      <td>7387.274577</td>\n",
       "      <td>7397.377083</td>\n",
       "      <td>7395.188564</td>\n",
       "      <td>7446.858752</td>\n",
       "      <td>7483.295911</td>\n",
       "      <td>...</td>\n",
       "      <td>0</td>\n",
       "      <td>0</td>\n",
       "      <td>1</td>\n",
       "      <td>0</td>\n",
       "      <td>0</td>\n",
       "      <td>0</td>\n",
       "      <td>0</td>\n",
       "      <td>0</td>\n",
       "      <td>0</td>\n",
       "      <td>27.6</td>\n",
       "    </tr>\n",
       "  </tbody>\n",
       "</table>\n",
       "<p>5 rows × 200 columns</p>\n",
       "</div>"
      ],
      "text/plain": [
       "               T-1           T-2           T-3           T-4           T-5  \\\n",
       "2581   9995.961852   9870.024985   9677.370785   9392.847138   8836.845375   \n",
       "7674  10734.847479  11108.219067  11260.804071  11230.603863  11117.825350   \n",
       "477    7823.656204   7823.364003   7868.414285   7883.308724   7747.102878   \n",
       "5220   8463.546600   8325.847346   8155.010012   8162.239642   8099.253806   \n",
       "1210   7330.407694   7340.382230   7387.772284   7429.839897   7419.429330   \n",
       "\n",
       "               T-6           T-7           T-8          T-9         T-10  \\\n",
       "2581   8355.431338   8172.150171   8021.895442  8030.463140  8038.729246   \n",
       "7674  10974.387629  10878.715004  10210.686738  9669.849888  8994.760527   \n",
       "477    7640.463876   7607.537034   7622.953513  7587.855651  7534.597433   \n",
       "5220   8136.630915   8131.579498   8154.591408  8216.339717  8358.519904   \n",
       "1210   7387.274577   7397.377083   7395.188564  7446.858752  7483.295911   \n",
       "\n",
       "        ...     Hour 22  Hour 23  Weekday 0  Weekday 1  Weekday 2  Weekday 3  \\\n",
       "2581    ...           0        0          0          1          0          0   \n",
       "7674    ...           0        0          0          0          0          1   \n",
       "477     ...           0        0          0          0          0          0   \n",
       "5220    ...           0        0          0          0          0          0   \n",
       "1210    ...           0        0          1          0          0          0   \n",
       "\n",
       "      Weekday 4  Weekday 5  Weekday 6  Temp (F)  \n",
       "2581          0          0          0      25.0  \n",
       "7674          0          0          0      72.0  \n",
       "477           1          0          0      28.0  \n",
       "5220          0          0          1      73.9  \n",
       "1210          0          0          0      27.6  \n",
       "\n",
       "[5 rows x 200 columns]"
      ]
     },
     "execution_count": 15,
     "metadata": {},
     "output_type": "execute_result"
    }
   ],
   "source": [
    "X_train.head()"
   ]
  },
  {
   "cell_type": "markdown",
   "metadata": {},
   "source": [
    "## Normalizing the dataset"
   ]
  },
  {
   "cell_type": "code",
   "execution_count": 16,
   "metadata": {},
   "outputs": [
    {
     "data": {
      "text/plain": [
       "((1458, 168), (1458, 32))"
      ]
     },
     "execution_count": 16,
     "metadata": {},
     "output_type": "execute_result"
    }
   ],
   "source": [
    "X_train1 = np.asarray(X_train)[:, 0:168]/10000\n",
    "X_train2 = np.asarray(X_train)[:, 168:200]\n",
    "X_train2[:, 31] = X_train2[:, 31]/100\n",
    "X_train1.shape, X_train2.shape\n",
    "\n",
    "\n",
    "X_test1 = np.asarray(X_test)[:, 0:168]/10000\n",
    "X_test2 = np.asarray(X_test)[:, 168:200]\n",
    "X_test2[:, 31] = X_test2[:, 31]/100\n",
    "X_test1.shape, X_test2.shape\n",
    "\n",
    "\n",
    "X_val1 = np.asarray(X_val)[:, 0:168]/10000\n",
    "X_val2 = np.asarray(X_val)[:, 168:200]\n",
    "X_val2[:, 31] = X_val2[:, 31]/100\n",
    "\n",
    "X_val1.shape, X_val2.shape"
   ]
  },
  {
   "cell_type": "markdown",
   "metadata": {},
   "source": [
    "## Saving the dataset in directory"
   ]
  },
  {
   "cell_type": "code",
   "execution_count": 17,
   "metadata": {},
   "outputs": [],
   "source": [
    "np.savetxt(\"X_train1.txt\", X_train1)\n",
    "np.savetxt(\"X_train2.txt\", X_train2)\n",
    "np.savetxt(\"X_val1.txt\", X_val1)\n",
    "np.savetxt(\"X_val2.txt\", X_val2)\n",
    "np.savetxt(\"X_test1.txt\", X_test1)\n",
    "np.savetxt(\"X_test2.txt\", X_test2)\n",
    "np.savetxt(\"y_train.txt\", y_train)\n",
    "np.savetxt(\"y_val.txt\", y_val)\n",
    "np.savetxt(\"y_test.txt\", y_test)"
   ]
  },
  {
   "cell_type": "markdown",
   "metadata": {},
   "source": [
    "## Feature Analysis and Plots"
   ]
  },
  {
   "cell_type": "code",
   "execution_count": 18,
   "metadata": {},
   "outputs": [
    {
     "data": {
      "text/plain": [
       "Text(0,0.5,'Weekly Load (kWh)')"
      ]
     },
     "execution_count": 18,
     "metadata": {},
     "output_type": "execute_result"
    },
    {
     "data": {
      "image/png": "[encoded data removed]",
      "text/plain": [
       "<Figure size 432x288 with 1 Axes>"
      ]
     },
     "metadata": {},
     "output_type": "display_data"
    }
   ],
   "source": [
    "df = df.dropna()\n",
    "plt.plot(['Mon', 'Tues', 'Wed', 'Thurs', 'Fri', 'Sat', 'Sun'], df.groupby('Weekday').sum()['Value']/52)\n",
    "y_label = 'Weekly Load (kWh)';x_label='day of the week'\n",
    "plt.xlabel(x_label)\n",
    "plt.ylabel(y_label)"
   ]
  },
  {
   "cell_type": "code",
   "execution_count": 19,
   "metadata": {
    "scrolled": true
   },
   "outputs": [
    {
     "data": {
      "text/plain": [
       "Text(0,0.5,'Hourly Load (kWh)')"
      ]
     },
     "execution_count": 19,
     "metadata": {},
     "output_type": "execute_result"
    },
    {
     "data": {
      "image/png": "[encoded data removed]",
      "text/plain": [
       "<Figure size 432x288 with 1 Axes>"
      ]
     },
     "metadata": {},
     "output_type": "display_data"
    }
   ],
   "source": [
    "plt.plot(list(range(24)), df.groupby('hours').mean()['Value'])\n",
    "y_label = 'Hourly Load (kWh)';x_label='hour of the day'\n",
    "plt.xlabel(x_label)\n",
    "plt.ylabel(y_label)"
   ]
  },
  {
   "cell_type": "code",
   "execution_count": 20,
   "metadata": {},
   "outputs": [
    {
     "data": {
      "text/plain": [
       "Text(0,0.5,'Monthly Load (kWh)')"
      ]
     },
     "execution_count": 20,
     "metadata": {},
     "output_type": "execute_result"
    },
    {
     "data": {
      "image/png": "[encoded data removed]",
      "text/plain": [
       "<Figure size 432x288 with 1 Axes>"
      ]
     },
     "metadata": {},
     "output_type": "display_data"
    }
   ],
   "source": [
    "df['Months']=df['Time'].dt.month\n",
    "plt.plot(['Jan', 'Feb', 'Mar', 'Apr', 'May', 'June', 'Jul', 'Aug', 'Sep', 'Oct', 'Nov', 'Dec'], df.groupby('Months').sum()['Value'])\n",
    "y_label = 'Monthly Load (kWh)';x_label='Month of the year'\n",
    "plt.xlabel(x_label)\n",
    "plt.ylabel(y_label)"
   ]
  },
  {
   "cell_type": "code",
   "execution_count": 21,
   "metadata": {},
   "outputs": [
    {
     "data": {
      "text/plain": [
       "Text(0,0.5,'Temperature (F)')"
      ]
     },
     "execution_count": 21,
     "metadata": {},
     "output_type": "execute_result"
    },
    {
     "data": {
      "image/png": "[encoded data removed]",
      "text/plain": [
       "<Figure size 432x288 with 1 Axes>"
      ]
     },
     "metadata": {},
     "output_type": "display_data"
    }
   ],
   "source": [
    "df['day of the year'] = df['Time'].dt.dayofyear\n",
    "plt.plot(df['day of the year'], df['Temp (F)'])\n",
    "y_label = 'Temperature (F)';x_label='Day of the year'\n",
    "plt.xlabel(x_label)\n",
    "plt.ylabel(y_label)"
   ]
  }
 ],
 "metadata": {
  "kernelspec": {
   "display_name": "Python 3",
   "language": "python",
   "name": "python3"
  },
  "language_info": {
   "codemirror_mode": {
    "name": "ipython",
    "version": 3
   },
   "file_extension": ".py",
   "mimetype": "text/x-python",
   "name": "python",
   "nbconvert_exporter": "python",
   "pygments_lexer": "ipython3",
   "version": "3.6.5"
  }
 },
 "nbformat": 4,
 "nbformat_minor": 2
}
