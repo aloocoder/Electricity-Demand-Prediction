{
 "cells": [
  {
   "cell_type": "code",
   "execution_count": 1,
   "metadata": {},
   "outputs": [
    {
     "name": "stderr",
     "output_type": "stream",
     "text": [
      "C:\\Users\\gandh\\Anaconda3\\lib\\site-packages\\h5py\\__init__.py:36: FutureWarning: Conversion of the second argument of issubdtype from `float` to `np.floating` is deprecated. In future, it will be treated as `np.float64 == np.dtype(float).type`.\n",
      "  from ._conv import register_converters as _register_converters\n",
      "Using TensorFlow backend.\n"
     ]
    }
   ],
   "source": [
    "import pandas as pd\n",
    "import numpy as np\n",
    "import matplotlib.pyplot as plt\n",
    "%matplotlib inline\n",
    "from datetime import datetime, timedelta\n",
    "import tensorflow as tf\n",
    "import keras\n",
    "from keras.layers import Input\n",
    "from tensorflow.python.framework import ops\n",
    "import math\n",
    "from keras.callbacks import EarlyStopping\n",
    "from keras import optimizers"
   ]
  },
  {
   "cell_type": "markdown",
   "metadata": {},
   "source": [
    "## Loading Processed Data"
   ]
  },
  {
   "cell_type": "code",
   "execution_count": 2,
   "metadata": {},
   "outputs": [],
   "source": [
    "X_train1 = np.loadtxt('X_train1.txt', dtype=float)\n",
    "X_train2 = np.loadtxt('X_train2.txt', dtype=float)\n",
    "X_val1 = np.loadtxt('X_val1.txt', dtype=float)\n",
    "X_val2 = np.loadtxt('X_val2.txt', dtype=float)\n",
    "X_test1 = np.loadtxt('X_test1.txt', dtype=float)\n",
    "X_test2 = np.loadtxt('X_test2.txt', dtype=float)\n",
    "y_train = np.loadtxt(\"y_train.txt\", dtype=float)\n",
    "y_val = np.loadtxt(\"y_val.txt\", dtype=float)\n",
    "y_test = np.loadtxt(\"y_test.txt\", dtype=float)\n",
    "\n",
    "# Converting Watts to kW\n",
    "y_train/=1000\n",
    "y_test/=1000\n",
    "y_val/=1000"
   ]
  },
  {
   "cell_type": "code",
   "execution_count": 3,
   "metadata": {},
   "outputs": [
    {
     "data": {
      "text/plain": [
       "((168, 5103), (1, 5103))"
      ]
     },
     "execution_count": 3,
     "metadata": {},
     "output_type": "execute_result"
    }
   ],
   "source": [
    "X_train1.T.shape, y_train[np.newaxis].shape"
   ]
  },
  {
   "cell_type": "markdown",
   "metadata": {},
   "source": [
    "## Creating the C-RNN Architecture"
   ]
  },
  {
   "cell_type": "code",
   "execution_count": 5,
   "metadata": {},
   "outputs": [],
   "source": [
    "X_input = Input([X_train1.shape[1],1])\n",
    "X_input_2 = Input([X_train2.shape[1],1])\n",
    "\n",
    "def create_model(X_input, X_input_2):\n",
    "    \n",
    "    X1 = keras.layers.Conv1D(kernel_size=(3), filters=64, activation='relu', name='Conv_1')(X_input)\n",
    "    X1 = keras.layers.MaxPooling1D(pool_size=2, name ='Pool_1')(X1)\n",
    "    X2 = keras.layers.Conv1D(kernel_size=(5), filters=64, activation='relu', name='Conv_2')(X_input)\n",
    "    X2 = keras.layers.MaxPooling1D(pool_size=2, name='Pool_2')(X2)\n",
    "    X3 = keras.layers.Conv1D(kernel_size=(7), filters=64, activation='relu', name='Conv_3')(X_input)\n",
    "    X3 = keras.layers.MaxPooling1D(pool_size=2, name='Pool_3')(X3)\n",
    "    X4 = keras.layers.Concatenate(axis=1, name='Concat_1')([X1,X2,X3])\n",
    "    X5 = keras.layers.LSTM(32, return_sequences=True, name='LSTM_1')(X4)\n",
    "    X6 = keras.layers.GlobalAveragePooling1D(name='Mean_1')(X5)\n",
    "    X7 = keras.layers.Flatten()(X_input_2)\n",
    "    X7 = keras.layers.Dense(32, name='Dense_1')(X7)\n",
    "    X8 = keras.layers.Concatenate(axis=1, name='Concat_2')([X6,X7])\n",
    "    X9 = keras.layers.Dense(16, name='Dense_2')(X8)\n",
    "    Pred = keras.layers.Dense(1, name='Dense_3')(X9)\n",
    "    \n",
    "    model = keras.models.Model(inputs=[X_input, X_input_2], outputs=Pred, name='C-RNN')\n",
    "\n",
    "    return model"
   ]
  },
  {
   "cell_type": "code",
   "execution_count": 6,
   "metadata": {},
   "outputs": [],
   "source": [
    "model = create_model(X_input, X_input_2)"
   ]
  },
  {
   "cell_type": "code",
   "execution_count": 7,
   "metadata": {},
   "outputs": [
    {
     "name": "stdout",
     "output_type": "stream",
     "text": [
      "__________________________________________________________________________________________________\n",
      "Layer (type)                    Output Shape         Param #     Connected to                     \n",
      "==================================================================================================\n",
      "input_1 (InputLayer)            (None, 168, 1)       0                                            \n",
      "__________________________________________________________________________________________________\n",
      "Conv_1 (Conv1D)                 (None, 166, 64)      256         input_1[0][0]                    \n",
      "__________________________________________________________________________________________________\n",
      "Conv_2 (Conv1D)                 (None, 164, 64)      384         input_1[0][0]                    \n",
      "__________________________________________________________________________________________________\n",
      "Conv_3 (Conv1D)                 (None, 162, 64)      512         input_1[0][0]                    \n",
      "__________________________________________________________________________________________________\n",
      "Pool_1 (MaxPooling1D)           (None, 83, 64)       0           Conv_1[0][0]                     \n",
      "__________________________________________________________________________________________________\n",
      "Pool_2 (MaxPooling1D)           (None, 82, 64)       0           Conv_2[0][0]                     \n",
      "__________________________________________________________________________________________________\n",
      "Pool_3 (MaxPooling1D)           (None, 81, 64)       0           Conv_3[0][0]                     \n",
      "__________________________________________________________________________________________________\n",
      "Concat_1 (Concatenate)          (None, 246, 64)      0           Pool_1[0][0]                     \n",
      "                                                                 Pool_2[0][0]                     \n",
      "                                                                 Pool_3[0][0]                     \n",
      "__________________________________________________________________________________________________\n",
      "input_2 (InputLayer)            (None, 32, 1)        0                                            \n",
      "__________________________________________________________________________________________________\n",
      "LSTM_1 (LSTM)                   (None, 246, 32)      12416       Concat_1[0][0]                   \n",
      "__________________________________________________________________________________________________\n",
      "flatten_1 (Flatten)             (None, 32)           0           input_2[0][0]                    \n",
      "__________________________________________________________________________________________________\n",
      "Mean_1 (GlobalAveragePooling1D) (None, 32)           0           LSTM_1[0][0]                     \n",
      "__________________________________________________________________________________________________\n",
      "Dense_1 (Dense)                 (None, 32)           1056        flatten_1[0][0]                  \n",
      "__________________________________________________________________________________________________\n",
      "Concat_2 (Concatenate)          (None, 64)           0           Mean_1[0][0]                     \n",
      "                                                                 Dense_1[0][0]                    \n",
      "__________________________________________________________________________________________________\n",
      "Dense_2 (Dense)                 (None, 16)           1040        Concat_2[0][0]                   \n",
      "__________________________________________________________________________________________________\n",
      "Dense_3 (Dense)                 (None, 1)            17          Dense_2[0][0]                    \n",
      "==================================================================================================\n",
      "Total params: 15,681\n",
      "Trainable params: 15,681\n",
      "Non-trainable params: 0\n",
      "__________________________________________________________________________________________________\n"
     ]
    }
   ],
   "source": [
    "model.summary()"
   ]
  },
  {
   "cell_type": "markdown",
   "metadata": {},
   "source": [
    "## Training the Model"
   ]
  },
  {
   "cell_type": "code",
   "execution_count": 13,
   "metadata": {},
   "outputs": [
    {
     "name": "stdout",
     "output_type": "stream",
     "text": [
      "Train on 5103 samples, validate on 1458 samples\n",
      "Epoch 1/20\n",
      "5103/5103 [==============================] - 28s 6ms/step - loss: 1.0463 - acc: 0.0000e+00 - val_loss: 0.7294 - val_acc: 0.0000e+00\n",
      "Epoch 2/20\n",
      "5103/5103 [==============================] - 36s 7ms/step - loss: 0.7140 - acc: 0.0000e+00 - val_loss: 0.6585 - val_acc: 0.0000e+00\n",
      "Epoch 3/20\n",
      "5103/5103 [==============================] - 43s 8ms/step - loss: 0.6392 - acc: 0.0000e+00 - val_loss: 0.7292 - val_acc: 0.0000e+00\n",
      "Epoch 4/20\n",
      "5103/5103 [==============================] - 31s 6ms/step - loss: 1.1292 - acc: 0.0000e+00 - val_loss: 0.8242 - val_acc: 0.0000e+00\n",
      "Epoch 5/20\n",
      "5103/5103 [==============================] - 28s 5ms/step - loss: 0.6301 - acc: 0.0000e+00 - val_loss: 0.6141 - val_acc: 0.0000e+00\n",
      "Epoch 6/20\n",
      "5103/5103 [==============================] - 28s 6ms/step - loss: 0.6003 - acc: 0.0000e+00 - val_loss: 0.6819 - val_acc: 0.0000e+00\n",
      "Epoch 7/20\n",
      "5103/5103 [==============================] - 32s 6ms/step - loss: 0.6171 - acc: 0.0000e+00 - val_loss: 0.6379 - val_acc: 0.0000e+00\n",
      "Epoch 8/20\n",
      "5103/5103 [==============================] - 35s 7ms/step - loss: 0.5657 - acc: 0.0000e+00 - val_loss: 0.5724 - val_acc: 0.0000e+00\n",
      "Epoch 9/20\n",
      "5103/5103 [==============================] - 30s 6ms/step - loss: 0.5209 - acc: 0.0000e+00 - val_loss: 0.5370 - val_acc: 0.0000e+00\n",
      "Epoch 10/20\n",
      "5103/5103 [==============================] - 28s 6ms/step - loss: 0.5067 - acc: 0.0000e+00 - val_loss: 0.5142 - val_acc: 0.0000e+00\n",
      "Epoch 11/20\n",
      "5103/5103 [==============================] - 27s 5ms/step - loss: 0.5053 - acc: 0.0000e+00 - val_loss: 0.5125 - val_acc: 0.0000e+00\n",
      "Epoch 12/20\n",
      "5103/5103 [==============================] - 29s 6ms/step - loss: 0.5826 - acc: 0.0000e+00 - val_loss: 0.5756 - val_acc: 0.0000e+00\n",
      "Epoch 13/20\n",
      "5103/5103 [==============================] - 28s 5ms/step - loss: 0.5148 - acc: 0.0000e+00 - val_loss: 0.5498 - val_acc: 0.0000e+00\n",
      "Epoch 14/20\n",
      "5103/5103 [==============================] - 30s 6ms/step - loss: 0.4948 - acc: 0.0000e+00 - val_loss: 0.5208 - val_acc: 0.0000e+00\n"
     ]
    },
    {
     "data": {
      "text/plain": [
       "<keras.callbacks.History at 0x1d08c5dada0>"
      ]
     },
     "execution_count": 13,
     "metadata": {},
     "output_type": "execute_result"
    }
   ],
   "source": [
    "adam = optimizers.Adam(lr=0.001)\n",
    "model.compile(optimizer=adam, loss='mse', metrics=['acc'])\n",
    "\n",
    "X_train1 = np.reshape(X_train1,[X_train1.shape[0], X_train1.shape[1],1])\n",
    "X_train2 = np.reshape(X_train2,[X_train2.shape[0], X_train2.shape[1],1])\n",
    "X_val1 = np.reshape(X_val1,[X_val1.shape[0], X_val1.shape[1],1])\n",
    "X_val2 = np.reshape(X_val2,[X_val2.shape[0], X_val2.shape[1],1])\n",
    "\n",
    "early_stopping_monitor = EarlyStopping(patience=3)\n",
    "model.fit([X_train1, X_train2], y_train, epochs=20, validation_data=([X_val1, X_val2], y_val), callbacks=[early_stopping_monitor])"
   ]
  },
  {
   "cell_type": "markdown",
   "metadata": {},
   "source": [
    "## Saving the Trained Model"
   ]
  },
  {
   "cell_type": "code",
   "execution_count": 14,
   "metadata": {},
   "outputs": [],
   "source": [
    "try:\n",
    "    from tensorflow.python.keras.models import load_model\n",
    "\n",
    "    model.save('model.h5')\n",
    "\n",
    "    \n",
    "    new_model = load_model('model.h5')\n",
    "except:\n",
    "    pass\n",
    "\n",
    "X_test1 = np.reshape(X_test1,[X_test1.shape[0], X_test1.shape[1],1])\n",
    "X_test2 = np.reshape(X_test2,[X_test2.shape[0], X_test2.shape[1],1])"
   ]
  },
  {
   "cell_type": "markdown",
   "metadata": {},
   "source": [
    "## Evaluating Model and Making Predictions"
   ]
  },
  {
   "cell_type": "code",
   "execution_count": 21,
   "metadata": {},
   "outputs": [
    {
     "name": "stdout",
     "output_type": "stream",
     "text": [
      "5103/5103 [==============================] - 6s 1ms/step\n",
      "MSE: 0.4798101331413014\n",
      "1458/1458 [==============================] - 2s 1ms/step\n",
      "MSE: 0.5208419610443429\n",
      "730/730 [==============================] - 1s 1ms/step\n",
      "MSE: 0.6139318593560833\n"
     ]
    }
   ],
   "source": [
    "score_train = model.evaluate([X_train1, X_train2], y_train)\n",
    "print('MSE_train:', score_train[0])\n",
    "\n",
    "score_val = model.evaluate([X_val1, X_val2], y_val)\n",
    "print('MSE_val:', score_val[0])\n",
    "\n",
    "score_test = model.evaluate([X_test1, X_test2], y_test)\n",
    "print('MSE_test:', score_test[0])"
   ]
  },
  {
   "cell_type": "code",
   "execution_count": 20,
   "metadata": {},
   "outputs": [
    {
     "data": {
      "text/plain": [
       "(array([8.751912], dtype=float32), 9.136793308333335)"
      ]
     },
     "execution_count": 20,
     "metadata": {},
     "output_type": "execute_result"
    }
   ],
   "source": [
    "pred_test = model.predict([X_test1, X_test2])\n",
    "pred_train = model.predict([X_train1, X_train2])\n",
    "pred_val = model.predict([X_val1, X_val2])"
   ]
  },
  {
   "cell_type": "markdown",
   "metadata": {},
   "source": [
    "## Calculating $R^2$ Value"
   ]
  },
  {
   "cell_type": "code",
   "execution_count": 25,
   "metadata": {},
   "outputs": [
    {
     "name": "stdout",
     "output_type": "stream",
     "text": [
      "train: 0.8279775810233087\n",
      "val: 0.817754995327652\n",
      "test: 0.7774640640364986\n"
     ]
    }
   ],
   "source": [
    "len(pred), len(X_test2)\n",
    "\n",
    "def calc_r_2(pred, y_test):\n",
    "    mse=0\n",
    "    for i in range(len(pred)):\n",
    "        mse+=(pred[i]-y_test[i])**2\n",
    "    mse/=len(pred)\n",
    "    # X_test1.shape\n",
    "    # pred[729], y_test[729]\n",
    "    mse = mse[0]\n",
    "    var_y = np.var(y_test)\n",
    "    return (1-(mse/var_y))\n",
    "\n",
    "print('train:', calc_r_2(pred_train, y_train))\n",
    "print('val:', calc_r_2(pred_val, y_val))\n",
    "print('test:', calc_r_2(pred_test, y_test))"
   ]
  },
  {
   "cell_type": "markdown",
   "metadata": {},
   "source": [
    "## Plotting the $R^2$ Values"
   ]
  },
  {
   "cell_type": "code",
   "execution_count": 26,
   "metadata": {},
   "outputs": [
    {
     "data": {
      "image/png": "[encoded data removed]",
      "text/plain": [
       "<Figure size 432x288 with 1 Axes>"
      ]
     },
     "metadata": {},
     "output_type": "display_data"
    }
   ],
   "source": [
    "def plot(x,y,x_label=None,y_label=None, title=None, style1=None, color1=None, label1=None, y2=None, label2=None, \\\n",
    "           style2=None, color2=None):\n",
    "    plt.title(title)\n",
    "    plt.xlabel(x_label)\n",
    "    plt.ylabel(y_label)\n",
    "    plot1 = plt.scatter(x, y, color=color1)\n",
    "    plot2, = plt.plot([(y_test).min(), (y_test).max()], [(y_test).min(), (y_test).max()], 'k--', lw=4)\n",
    "    plt.legend([plot1], [label1, label2])\n",
    "    plt.show()\n",
    "    \n",
    "plot(y_test, pred_test, 'Actual Load (kWh)', 'Predicted Load (kWh)',  'C_RNN model', \\\n",
    "       style1='.', color1='blue', label1='Predicted', y2=y_test, label2='Actual', \\\n",
    "       style2='--', color2='black')\n"
   ]
  },
  {
   "cell_type": "code",
   "execution_count": null,
   "metadata": {},
   "outputs": [],
   "source": []
  }
 ],
 "metadata": {
  "kernelspec": {
   "display_name": "Python 3",
   "language": "python",
   "name": "python3"
  },
  "language_info": {
   "codemirror_mode": {
    "name": "ipython",
    "version": 3
   },
   "file_extension": ".py",
   "mimetype": "text/x-python",
   "name": "python",
   "nbconvert_exporter": "python",
   "pygments_lexer": "ipython3",
   "version": "3.6.5"
  }
 },
 "nbformat": 4,
 "nbformat_minor": 2
}
