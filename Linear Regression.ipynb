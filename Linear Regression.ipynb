{
 "cells": [
  {
   "cell_type": "markdown",
   "metadata": {},
   "source": [
    "# Linear Regression Model"
   ]
  },
  {
   "cell_type": "code",
   "execution_count": 1,
   "metadata": {},
   "outputs": [
    {
     "name": "stderr",
     "output_type": "stream",
     "text": [
      "C:\\Users\\gandh\\Anaconda3\\lib\\site-packages\\h5py\\__init__.py:36: FutureWarning: Conversion of the second argument of issubdtype from `float` to `np.floating` is deprecated. In future, it will be treated as `np.float64 == np.dtype(float).type`.\n",
      "  from ._conv import register_converters as _register_converters\n"
     ]
    }
   ],
   "source": [
    "import pandas as pd\n",
    "import numpy as np\n",
    "import matplotlib.pyplot as plt\n",
    "%matplotlib inline\n",
    "from datetime import datetime, timedelta\n",
    "import tensorflow as tf\n",
    "from tensorflow.python.framework import ops\n",
    "import math\n",
    "from sklearn.linear_model import LinearRegression\n",
    "from sklearn.metrics import mean_squared_error"
   ]
  },
  {
   "cell_type": "markdown",
   "metadata": {},
   "source": [
    "## Loading Processed Data"
   ]
  },
  {
   "cell_type": "code",
   "execution_count": 2,
   "metadata": {},
   "outputs": [],
   "source": [
    "X_train1 = np.loadtxt('X_train1.txt', dtype=float)\n",
    "X_train2 = np.loadtxt('X_train2.txt', dtype=float)\n",
    "X_val1 = np.loadtxt('X_val1.txt', dtype=float)\n",
    "X_val2 = np.loadtxt('X_val2.txt', dtype=float)\n",
    "X_test1 = np.loadtxt('X_test1.txt', dtype=float)\n",
    "X_test2 = np.loadtxt('X_test2.txt', dtype=float)\n",
    "y_train = np.loadtxt(\"y_train.txt\", dtype=float)\n",
    "y_val = np.loadtxt(\"y_val.txt\", dtype=float)\n",
    "y_test = np.loadtxt(\"y_test.txt\", dtype=float)"
   ]
  },
  {
   "cell_type": "code",
   "execution_count": 3,
   "metadata": {},
   "outputs": [
    {
     "data": {
      "text/plain": [
       "((168, 5103), (1, 5103))"
      ]
     },
     "execution_count": 3,
     "metadata": {},
     "output_type": "execute_result"
    }
   ],
   "source": [
    "X_train1.T.shape, y_train[np.newaxis].shape"
   ]
  },
  {
   "cell_type": "code",
   "execution_count": 4,
   "metadata": {},
   "outputs": [
    {
     "data": {
      "text/plain": [
       "((200, 5103), (200, 1458), (1, 5103), (1, 1458))"
      ]
     },
     "execution_count": 4,
     "metadata": {},
     "output_type": "execute_result"
    }
   ],
   "source": [
    "X_train = np.concatenate((X_train1, X_train2), axis=1)\n",
    "X_val = np.concatenate((X_val1, X_val2), axis=1)\n",
    "\n",
    "X_train = X_train.T\n",
    "X_val = X_val.T\n",
    "\n",
    "y_train=y_train[np.newaxis]\n",
    "y_val=y_val[np.newaxis]\n",
    "\n",
    "X_train.shape, X_val.shape, y_train.shape, y_val.shape"
   ]
  },
  {
   "cell_type": "code",
   "execution_count": 5,
   "metadata": {},
   "outputs": [],
   "source": [
    "# Converting W to kW\n",
    "\n",
    "y_train/=1000\n",
    "y_test/=1000\n",
    "y_val/=1000"
   ]
  },
  {
   "cell_type": "markdown",
   "metadata": {},
   "source": [
    "## Training and Predicting through Linear Regression Model"
   ]
  },
  {
   "cell_type": "code",
   "execution_count": 6,
   "metadata": {},
   "outputs": [
    {
     "data": {
      "text/plain": [
       "0.8730152903759949"
      ]
     },
     "execution_count": 6,
     "metadata": {},
     "output_type": "execute_result"
    }
   ],
   "source": [
    "reg = LinearRegression().fit(X_train.T, y_train.T)\n",
    "y_train_pred = reg.predict(X_train.T)\n",
    "mse_train = mean_squared_error(y_train.T, y_train_pred)\n",
    "r_2_train = reg.score(X_train.T, y_train.T)\n",
    "print('MSE_train:', mse_train)\n",
    "print('r_2_train:', r_2_train)"
   ]
  },
  {
   "cell_type": "code",
   "execution_count": 7,
   "metadata": {},
   "outputs": [
    {
     "data": {
      "text/plain": [
       "0.8584672066608825"
      ]
     },
     "execution_count": 7,
     "metadata": {},
     "output_type": "execute_result"
    }
   ],
   "source": [
    "y_val_pred = reg.predict(X_val.T)\n",
    "mse_val = mean_squared_error(y_val.T, y_val_pred)\n",
    "r_2_val = reg.score(X_val.T, y_val.T)\n",
    "print('MSE_val:', mse_val)\n",
    "print('r_2_val:', r_2_val)"
   ]
  },
  {
   "cell_type": "code",
   "execution_count": 8,
   "metadata": {},
   "outputs": [
    {
     "data": {
      "text/plain": [
       "0.8092240213887301"
      ]
     },
     "execution_count": 8,
     "metadata": {},
     "output_type": "execute_result"
    }
   ],
   "source": [
    "X_test = np.concatenate((X_test1, X_test2), axis=1)\n",
    "y_test_pred = reg.predict(X_test)\n",
    "mse_test = mean_squared_error(y_test, y_test_pred)\n",
    "r_2_test = reg.score(X_test, y_test)\n",
    "print('MSE_test:', mse_test)\n",
    "print('r_2_test:', r_2_test)"
   ]
  },
  {
   "cell_type": "code",
   "execution_count": 11,
   "metadata": {},
   "outputs": [
    {
     "data": {
      "text/plain": [
       "(0.5263125079460435, 0.40448945818291127, 0.35418942755254834)"
      ]
     },
     "execution_count": 11,
     "metadata": {},
     "output_type": "execute_result"
    }
   ],
   "source": [
    "mse_test, mse_val, mse_train"
   ]
  },
  {
   "cell_type": "code",
   "execution_count": 10,
   "metadata": {},
   "outputs": [
    {
     "data": {
      "image/png": "[encoded data removed]",
      "text/plain": [
       "<Figure size 432x288 with 1 Axes>"
      ]
     },
     "metadata": {},
     "output_type": "display_data"
    }
   ],
   "source": [
    "def plot(x,y,x_label=None,y_label=None, title=None, style1=None, color1=None, label1=None, y2=None, label2=None, \\\n",
    "           style2=None, color2=None):\n",
    "    plt.title(title)\n",
    "    plt.xlabel(x_label)\n",
    "    plt.ylabel(y_label)\n",
    "    plot1 = plt.scatter(x, y, color=color1)\n",
    "    plot2, = plt.plot([(y_test).min(), (y_test).max()], [(y_test).min(), (y_test).max()], 'k--', lw=4)\n",
    "    plt.legend([plot1], [label1, label2])\n",
    "    plt.show()\n",
    "    \n",
    "plot(y_test, y_test_pred, 'Actual Load(kWh)', 'Predicted Load(kWh)',  'Linear Regression Model', \\\n",
    "       style1='.', color1='blue', label1='Predicted', y2=y_test, label2='Actual', \\\n",
    "       style2='--', color2='black')\n"
   ]
  }
 ],
 "metadata": {
  "kernelspec": {
   "display_name": "Python 3",
   "language": "python",
   "name": "python3"
  },
  "language_info": {
   "codemirror_mode": {
    "name": "ipython",
    "version": 3
   },
   "file_extension": ".py",
   "mimetype": "text/x-python",
   "name": "python",
   "nbconvert_exporter": "python",
   "pygments_lexer": "ipython3",
   "version": "3.6.5"
  }
 },
 "nbformat": 4,
 "nbformat_minor": 2
}
